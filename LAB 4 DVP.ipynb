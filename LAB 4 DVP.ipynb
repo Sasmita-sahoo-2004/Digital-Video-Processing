{
 "cells": [
  {
   "cell_type": "markdown",
   "id": "fc5f65f4",
   "metadata": {},
   "source": [
    "# Background Substraction"
   ]
  },
  {
   "cell_type": "code",
   "execution_count": 1,
   "id": "427cac32",
   "metadata": {},
   "outputs": [],
   "source": [
    "import cv2\n",
    "\n",
    "# Create a VideoCapture object\n",
    "cap = cv2.VideoCapture(r\"C:\\Users\\ASUS\\OneDrive\\Documents\\DVP\\video 3.mp4\")\n",
    "\n",
    "# Create a background subtractor object\n",
    "bg_subtractor = cv2.createBackgroundSubtractorMOG2()\n",
    "\n",
    "while True:\n",
    "    ret, frame = cap.read()\n",
    "    if not ret:\n",
    "        break\n",
    "    \n",
    "    # Apply background subtraction\n",
    "    fg_mask = bg_subtractor.apply(frame)\n",
    "    \n",
    "    # Display the original frame and the foreground mask\n",
    "    cv2.imshow('Original', frame)\n",
    "    cv2.imshow('Foreground Mask', fg_mask)\n",
    "    \n",
    "    # Check for 'q' key press to exit\n",
    "    if cv2.waitKey(30) & 0xFF == ord('q'):\n",
    "        break\n",
    "\n",
    "# Release the VideoCapture object and close all windows\n",
    "cap.release()\n",
    "cv2.destroyAllWindows()"
   ]
  },
  {
   "cell_type": "markdown",
   "id": "73849e73",
   "metadata": {},
   "source": [
    "# MOG "
   ]
  },
  {
   "cell_type": "code",
   "execution_count": 11,
   "id": "6a609100",
   "metadata": {},
   "outputs": [],
   "source": [
    "import cv2\n",
    "\n",
    "# Replace 'your_video_file.mp4' with the actual path to your video file\n",
    "video_path = (r\"C:\\Users\\ASUS\\OneDrive\\Documents\\DVP\\video 3.mp4\")\n",
    "bg_subtractor = cv2.createBackgroundSubtractorMOG2()\n",
    "cap = cv2.VideoCapture(video_path)\n",
    "if not cap.isOpened():\n",
    "    print(\"Error: Could not open video file.\")\n",
    "    exit()\n",
    "while True:\n",
    "    ret, frame = cap.read()\n",
    "    if not ret:\n",
    "        break\n",
    "    fg_mask = bg_subtractor.apply(frame)\n",
    "    _, binary_mask = cv2.threshold(fg_mask, 127, 255, cv2.THRESH_BINARY)\n",
    "    cv2.imshow('Original Frame', frame)\n",
    "    cv2.imshow('Foreground Mask', fg_mask)\n",
    "    cv2.imshow('Binary Mask', binary_mask)\n",
    "\n",
    "    # Break the loop if the user presses 'q' key\n",
    "    if cv2.waitKey(25) & 0xFF == ord('q'):\n",
    "        break\n",
    "\n",
    "# Release the video capture object and close the windows\n",
    "cap.release()\n",
    "cv2.destroyAllWindows()\n"
   ]
  },
  {
   "cell_type": "markdown",
   "id": "9a13bf71",
   "metadata": {},
   "source": [
    "# GMG"
   ]
  },
  {
   "cell_type": "code",
   "execution_count": 7,
   "id": "2c29023e",
   "metadata": {},
   "outputs": [],
   "source": [
    "import cv2\n",
    "\n",
    "# Replace 'your_video_file.mp4' with the actual path to your video file\n",
    "video_path = (r\"C:\\Users\\ASUS\\OneDrive\\Documents\\DVP\\video 3.mp4\")\n",
    "\n",
    "# Create a background subtractor object\n",
    "bg_subtractor = cv2.createBackgroundSubtractorMOG2()\n",
    "\n",
    "# Open the video file\n",
    "cap = cv2.VideoCapture(video_path)\n",
    "\n",
    "# Check if the video file was successfully opened\n",
    "if not cap.isOpened():\n",
    "    print(\"Error: Could not open video file.\")\n",
    "    exit()\n",
    "\n",
    "# Loop to process frames from the video\n",
    "while True:\n",
    "    # Read a frame from the video\n",
    "    ret, frame = cap.read()\n",
    "\n",
    "    # Break the loop if the video is over\n",
    "    if not ret:\n",
    "        break\n",
    "\n",
    "    # Apply background subtraction\n",
    "    fg_mask = bg_subtractor.apply(frame)\n",
    "\n",
    "    # Display the original frame and the foreground mask\n",
    "    cv2.imshow('Original Frame', frame)\n",
    "    cv2.imshow('GMG', fg_mask)\n",
    "\n",
    "    # Break the loop if the user presses 'q' key\n",
    "    if cv2.waitKey(25) & 0xFF == ord('q'):\n",
    "        break\n",
    "\n",
    "# Release the video capture object and close the windows\n",
    "cap.release()\n",
    "cv2.destroyAllWindows()\n"
   ]
  },
  {
   "cell_type": "markdown",
   "id": "c145038f",
   "metadata": {},
   "source": [
    "# KNN"
   ]
  },
  {
   "cell_type": "code",
   "execution_count": 8,
   "id": "96e65a49",
   "metadata": {},
   "outputs": [],
   "source": [
    "import cv2\n",
    "\n",
    "# Create a background subtractor object\n",
    "knn = cv2.createBackgroundSubtractorKNN()\n",
    "\n",
    "# Open a video file\n",
    "cap = cv2.VideoCapture(r\"C:\\Users\\ASUS\\OneDrive\\Documents\\DVP\\video 3.mp4\")\n",
    "\n",
    "while True:\n",
    "    ret, frame = cap.read()\n",
    "    if not ret:\n",
    "        break\n",
    "    \n",
    "    # Apply the background subtractor to the current frame\n",
    "    mask = knn.apply(frame)\n",
    "    \n",
    "    # Show the resulting mask\n",
    "    cv2.imshow('Mask', mask)\n",
    "    \n",
    "    if cv2.waitKey(30) & 0xFF == ord('q'):\n",
    "        break\n",
    "\n",
    "cap.release()\n",
    "cv2.destroyAllWindows()"
   ]
  },
  {
   "cell_type": "code",
   "execution_count": 9,
   "id": "08616c7d",
   "metadata": {},
   "outputs": [],
   "source": [
    "import cv2\n",
    "\n",
    "# Create a background subtractor object\n",
    "mog = cv2.createBackgroundSubtractorMOG2()\n",
    "\n",
    "# Open a video file\n",
    "cap = cv2.VideoCapture(r\"C:\\Users\\ASUS\\OneDrive\\Documents\\DVP\\video 3.mp4\")\n",
    "\n",
    "while True:\n",
    "    ret, frame = cap.read()\n",
    "    if not ret:\n",
    "        break\n",
    "    \n",
    "    # Apply the background subtractor to the current frame\n",
    "    mask = mog.apply(frame)\n",
    "    \n",
    "    # Show the resulting mask\n",
    "    cv2.imshow('Mask', mask)\n",
    "    \n",
    "    if cv2.waitKey(30) & 0xFF == ord('q'):\n",
    "        break\n",
    "\n",
    "cap.release()\n",
    "cv2.destroyAllWindows()"
   ]
  },
  {
   "cell_type": "code",
   "execution_count": null,
   "id": "6e604e16",
   "metadata": {},
   "outputs": [],
   "source": []
  }
 ],
 "metadata": {
  "kernelspec": {
   "display_name": "Python 3 (ipykernel)",
   "language": "python",
   "name": "python3"
  },
  "language_info": {
   "codemirror_mode": {
    "name": "ipython",
    "version": 3
   },
   "file_extension": ".py",
   "mimetype": "text/x-python",
   "name": "python",
   "nbconvert_exporter": "python",
   "pygments_lexer": "ipython3",
   "version": "3.11.5"
  }
 },
 "nbformat": 4,
 "nbformat_minor": 5
}
