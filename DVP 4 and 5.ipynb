{
 "cells": [
  {
   "cell_type": "markdown",
   "id": "71b7f5b7",
   "metadata": {},
   "source": [
    "Background substraction MOG"
   ]
  },
  {
   "cell_type": "code",
   "execution_count": 9,
   "id": "64c4d13c",
   "metadata": {},
   "outputs": [],
   "source": [
    "import cv2\n",
    "cap = cv2.VideoCapture(r\"C:\\Users\\HP\\Downloads\\traffic_-_27260 (360p).mp4\")\n",
    "bg_subtractor = cv2.createBackgroundSubtractorMOG2()\n",
    "\n",
    "while True:\n",
    "    ret, frame = cap.read()\n",
    "    if not ret:\n",
    "        break\n",
    "    fg_mask = bg_subtractor.apply(frame)\n",
    "    cv2.imshow('Original', frame)\n",
    "    cv2.imshow('Foreground Mask', fg_mask)\n",
    "    if cv2.waitKey(30) & 0xFF == ord('q'):\n",
    "        break\n",
    "cap.release()\n",
    "cv2.destroyAllWindows()"
   ]
  },
  {
   "cell_type": "markdown",
   "id": "22b692db",
   "metadata": {},
   "source": [
    "MOG 2"
   ]
  },
  {
   "cell_type": "code",
   "execution_count": 11,
   "id": "efe94de4",
   "metadata": {},
   "outputs": [],
   "source": [
    "import cv2\n",
    "video_path = (r\"C:\\Users\\HP\\Downloads\\traffic_-_27260 (360p).mp4\")\n",
    "bg_subtractor = cv2.createBackgroundSubtractorMOG2()\n",
    "cap = cv2.VideoCapture(video_path)\n",
    "if not cap.isOpened():\n",
    "    print(\"Error: Could not open video file.\")\n",
    "    exit()\n",
    "while True:\n",
    "    ret, frame = cap.read()\n",
    "    if not ret:\n",
    "        break\n",
    "    fg_mask = bg_subtractor.apply(frame)\n",
    "    _, binary_mask = cv2.threshold(fg_mask, 127, 255, cv2.THRESH_BINARY)\n",
    "    cv2.imshow('Original Frame', frame)\n",
    "    cv2.imshow('Foreground Mask', fg_mask)\n",
    "    cv2.imshow('Binary Mask', binary_mask)\n",
    "    if cv2.waitKey(25) & 0xFF == ord('q'):\n",
    "        break\n",
    "cap.release()\n",
    "cv2.destroyAllWindows()\n"
   ]
  },
  {
   "cell_type": "markdown",
   "id": "2e804344",
   "metadata": {},
   "source": [
    "KNN\n"
   ]
  },
  {
   "cell_type": "code",
   "execution_count": 14,
   "id": "0859fdf0",
   "metadata": {},
   "outputs": [],
   "source": [
    "import cv2\n",
    "mog = cv2.createBackgroundSubtractorMOG2()\n",
    "cap = cv2.VideoCapture(r\"C:\\Users\\HP\\Downloads\\traffic_-_27260 (360p).mp4\")\n",
    "\n",
    "while True:\n",
    "    ret, frame = cap.read()\n",
    "    if not ret:\n",
    "        break\n",
    "    mask = mog.apply(frame)\n",
    "    cv2.imshow('Mask', mask)\n",
    "    \n",
    "    if cv2.waitKey(30) & 0xFF == ord('q'):\n",
    "        break\n",
    "\n",
    "cap.release()\n",
    "cv2.destroyAllWindows()"
   ]
  },
  {
   "cell_type": "code",
   "execution_count": null,
   "id": "43464adb",
   "metadata": {},
   "outputs": [],
   "source": []
  },
  {
   "cell_type": "markdown",
   "id": "0fb4f725",
   "metadata": {},
   "source": [
    "GMG"
   ]
  },
  {
   "cell_type": "code",
   "execution_count": 13,
   "id": "acb0d36e",
   "metadata": {},
   "outputs": [],
   "source": [
    "import cv2\n",
    "video_path = (r\"C:\\Users\\HP\\Downloads\\traffic_-_27260 (360p).mp4\")\n",
    "bg_subtractor = cv2.createBackgroundSubtractorMOG2()\n",
    "cap = cv2.VideoCapture(video_path)\n",
    "if not cap.isOpened():\n",
    "    print(\"Error: Could not open video file.\")\n",
    "    exit()\n",
    "while True:\n",
    "    ret, frame = cap.read()\n",
    "    if not ret:\n",
    "        break\n",
    "    fg_mask = bg_subtractor.apply(frame)\n",
    "    cv2.imshow('Original Frame', frame)\n",
    "    cv2.imshow('GMG', fg_mask)\n",
    "    if cv2.waitKey(25) & 0xFF == ord('q'):\n",
    "        break\n",
    "cap.release()\n",
    "cv2.destroyAllWindows()\n"
   ]
  },
  {
   "cell_type": "markdown",
   "id": "4d35ad0e",
   "metadata": {},
   "source": [
    "Change detection"
   ]
  },
  {
   "cell_type": "code",
   "execution_count": 15,
   "id": "0c28c8ef",
   "metadata": {},
   "outputs": [],
   "source": [
    "import cv2\n",
    "import numpy as np\n",
    "cap = cv2.VideoCapture(r\"C:\\Users\\HP\\Downloads\\traffic_-_27260 (360p).mp4\")\n",
    "if not cap.isOpened():\n",
    "    print(\"Error: Could not open video file.\")\n",
    "    exit()\n",
    "ret, prev_frame = cap.read()\n",
    "if not ret:\n",
    "    print(\"Error: Could not read the first frame.\")\n",
    "    exit()\n",
    "prev_frame_gray = cv2.cvtColor(prev_frame, cv2.COLOR_BGR2GRAY)\n",
    "prev_hist = cv2.calcHist([prev_frame_gray], [0], None, [256], [0,256])\n",
    "while True:\n",
    "    ret, frame = cap.read()\n",
    "    if not ret:\n",
    "        break\n",
    "    frame_gray = cv2.cvtColor(frame, cv2.COLOR_BGR2GRAY)\n",
    "    curr_hist = cv2.calcHist([frame_gray], [0], None, [256], [0,256])\n",
    "    hist_diff = cv2.compareHist(prev_hist, curr_hist, cv2.HISTCMP_CORREL)\n",
    "    frame_with_hist_diff = np.copy(frame)\n",
    "    cv2.putText(frame_with_hist_diff, f\"Histogram Difference: {hist_diff}\", (20, 30), cv2.FONT_HERSHEY_SIMPLEX, 1, (0, 255, 0), 2)\n",
    "    cv2.imshow('Frame with Histogram Difference', frame_with_hist_diff)\n",
    "    prev_frame_gray = frame_gray\n",
    "    prev_hist = curr_hist\n",
    "    if cv2.waitKey(25) & 0xFF == ord('q'):\n",
    "        break\n",
    "cap.release()\n",
    "cv2.destroyAllWindows()"
   ]
  },
  {
   "cell_type": "code",
   "execution_count": 16,
   "id": "c0d3a90c",
   "metadata": {},
   "outputs": [],
   "source": [
    "import cv2\n",
    "cap = cv2.VideoCapture(r\"C:\\Users\\HP\\Downloads\\traffic_-_27260 (360p).mp4\")\n",
    "if not cap.isOpened():\n",
    "    print(\"Error: Could not open video file.\")\n",
    "    exit()\n",
    "ret, prev_frame = cap.read()\n",
    "if not ret:\n",
    "    print(\"Error: Could not read the first frame.\")\n",
    "    exit()\n",
    "prev_frame_gray = cv2.cvtColor(prev_frame, cv2.COLOR_BGR2GRAY)\n",
    "while True:\n",
    "    ret, frame = cap.read()\n",
    "    if not ret:\n",
    "        break\n",
    "    frame_gray = cv2.cvtColor(frame, cv2.COLOR_BGR2GRAY)\n",
    "    frame_diff = cv2.absdiff(frame_gray, prev_frame_gray)\n",
    "    _, thresholded = cv2.threshold(frame_diff, 30, 255, cv2.THRESH_BINARY)\n",
    "    contours, _ = cv2.findContours(thresholded, cv2.RETR_EXTERNAL, cv2.CHAIN_APPROX_SIMPLE)\n",
    "    for contour in contours:\n",
    "        x, y, w, h = cv2.boundingRect(contour)\n",
    "        cv2.rectangle(frame, (x, y), (x + w, y + h), (0, 255, 0), 2)\n",
    "    cv2.imshow('Frame with Changes Marked', frame)\n",
    "    prev_frame_gray = frame_gray\n",
    "    if cv2.waitKey(25) & 0xFF == ord('q'):\n",
    "        break\n",
    "cap.release()\n",
    "cv2.destroyAllWindows()"
   ]
  },
  {
   "cell_type": "code",
   "execution_count": null,
   "id": "cfc9ecfd",
   "metadata": {},
   "outputs": [],
   "source": []
  }
 ],
 "metadata": {
  "kernelspec": {
   "display_name": "Python 3 (ipykernel)",
   "language": "python",
   "name": "python3"
  },
  "language_info": {
   "codemirror_mode": {
    "name": "ipython",
    "version": 3
   },
   "file_extension": ".py",
   "mimetype": "text/x-python",
   "name": "python",
   "nbconvert_exporter": "python",
   "pygments_lexer": "ipython3",
   "version": "3.11.5"
  }
 },
 "nbformat": 4,
 "nbformat_minor": 5
}
